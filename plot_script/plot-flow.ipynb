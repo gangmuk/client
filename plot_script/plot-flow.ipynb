{
 "cells": [
  {
   "cell_type": "code",
   "execution_count": 4,
   "metadata": {},
   "outputs": [],
   "source": [
    "import sys\n",
    "import pandas as pd\n",
    "import os\n",
    "from IPython.display import display\n",
    "import graphviz\n",
    "\n",
    "pd.set_option('display.max_rows', None)\n",
    "pd.set_option('display.max_columns', None)\n",
    "\n",
    "def visualize_request_flow(fn, counter=None, plot_first_hop_only=False, include_legend=True, routing_rule=None):\n",
    "    df = pd.read_csv(fn)\n",
    "    if counter is not None and counter > 0:\n",
    "        df = df[df['counter'] == counter]\n",
    "    \n",
    "    grouped_df = df.groupby(['counter', 'src_svc', 'dst_svc', 'src_cid', 'dst_cid']).agg({'flow': 'sum', 'total': 'max'}).reset_index()\n",
    "    grouped_df['weight'] = grouped_df['flow'] / grouped_df['total']\n",
    "\n",
    "    node_color_dict = {\n",
    "        \"XXXX\": \"gray\",\n",
    "        \"-1\": \"#FFBF00\",\n",
    "        \"us-west-1\": \"#FFBF00\",\n",
    "        \"us-east-1\": \"#ff6375\",\n",
    "        \"us-south-1\": \"#bbfbfc\",\n",
    "        \"us-central-1\": \"#c8ffbf\"\n",
    "    }\n",
    "\n",
    "    g_ = graphviz.Digraph()\n",
    "    node_pw = \"1.4\"\n",
    "    node_fs = \"16\"\n",
    "    node_width = \"0.6\"\n",
    "\n",
    "    edge_pw = \"1.0\"\n",
    "    edge_fs = \"14\"\n",
    "    edge_arrowsize = \"1.2\"\n",
    "    edge_minlen = \"1.2\"\n",
    "\n",
    "    edge_color_dict = {\n",
    "        \"sslateingress@POST@/cart/checkout\": \"blue\",\n",
    "        \"sslateingress@POST@/cart\": \"red\",\n",
    "        \"sslateingress@POST@/cart/empty\": \"darkgreen\",\n",
    "        \"sslateingress@POST@/setCurrency\": \"orange\",\n",
    "        \"frontend@POST@/cart/checkout\": \"blue\",\n",
    "        \"frontend@POST@/cart\": \"red\",\n",
    "        \"frontend@POST@/cart/empty\": \"darkgreen\",\n",
    "        \"frontend@POST@/setCurrency\": \"orange\"\n",
    "    }\n",
    "\n",
    "    for index, row in df.iterrows():\n",
    "        src_cid = row[\"src_cid\"]\n",
    "        dst_cid = row[\"dst_cid\"]\n",
    "        src_svc = row[\"src_svc\"].split(\"-\")[-1]\n",
    "        dst_svc = row[\"dst_svc\"].split(\"-\")[-1]\n",
    "        src_node_name = src_svc + str(src_cid)\n",
    "        dst_node_name = dst_svc + str(dst_cid)\n",
    "\n",
    "        src_node_label = src_svc\n",
    "        dst_node_label = dst_svc\n",
    "\n",
    "        if src_svc == \"SOURCE\":\n",
    "            edge_style = 'filled'\n",
    "        elif src_cid == dst_cid:\n",
    "            edge_style = 'filled'\n",
    "        else:\n",
    "            edge_style = 'dashed'\n",
    "\n",
    "        edge_color = edge_color_dict.get(row[\"src_endpoint\"], \"black\")\n",
    "\n",
    "        try:\n",
    "            src_node_color = node_color_dict.get(src_cid, \"white\")\n",
    "            dst_node_color = node_color_dict.get(dst_cid, \"white\")\n",
    "\n",
    "            g_.node(name=src_node_name, label=src_node_label[:4], shape='circle', style='filled', fillcolor=src_node_color, penwidth=node_pw, fontsize=node_fs, fixedsize=\"True\", width=node_width)\n",
    "            g_.node(name=dst_node_name, label=dst_node_label[:4], shape='circle', style='filled', fillcolor=dst_node_color, penwidth=node_pw, fontsize=node_fs, fixedsize=\"True\", width=node_width)\n",
    "\n",
    "            edge_label = f'{round(row[\"flow\"], 1)}({int(round(row[\"weight\"], 2) * 100)}%)'\n",
    "            g_.edge(src_node_name, dst_node_name, label=edge_label, penwidth=edge_pw, style=edge_style, fontsize=edge_fs, fontcolor=edge_color, color=edge_color, arrowsize=edge_arrowsize, minlen=edge_minlen)\n",
    "\n",
    "        except Exception as e:\n",
    "            print(f\"Error: {e}\")\n",
    "            print(f\"Error row: {row}\")\n",
    "\n",
    "    return g_\n",
    "\n",
    "def run(input_file):\n",
    "    g_ = visualize_request_flow(input_file, counter=None, plot_first_hop_only=False, include_legend=False)\n",
    "    pwd = os.getcwd()\n",
    "    output_file = f\"{pwd}/{input_file.split('.')[0]}\"\n",
    "    print(f\"** Saved routing visualization: {output_file}.pdf\")\n",
    "    g_.render(output_file)\n",
    "    g_"
   ]
  },
  {
   "cell_type": "code",
   "execution_count": 5,
   "metadata": {},
   "outputs": [
    {
     "name": "stderr",
     "output_type": "stream",
     "text": [
      "Warning: node 'paymentserviceus-south-1', graph '%3' size too small for label\n",
      "Warning: node 'paymentserviceus-west-1', graph '%3' size too small for label\n",
      "Warning: node 'paymentserviceus-central-1', graph '%3' size too small for label\n",
      "Warning: node 'paymentserviceus-east-1', graph '%3' size too small for label\n",
      "Warning: node 'SOURCEXXXX', graph '%3' size too small for label\n"
     ]
    },
    {
     "name": "stdout",
     "output_type": "stream",
     "text": [
      "** Saved routing visualization: /users/gangmuk/projects/client/plot_script/request_flow.pdf\n"
     ]
    }
   ],
   "source": [
    "input_file = \"request_flow.csv\"\n",
    "run(input_file)"
   ]
  }
 ],
 "metadata": {
  "kernelspec": {
   "display_name": "Python 3",
   "language": "python",
   "name": "python3"
  },
  "language_info": {
   "codemirror_mode": {
    "name": "ipython",
    "version": 3
   },
   "file_extension": ".py",
   "mimetype": "text/x-python",
   "name": "python",
   "nbconvert_exporter": "python",
   "pygments_lexer": "ipython3",
   "version": "3.10.12"
  }
 },
 "nbformat": 4,
 "nbformat_minor": 2
}
